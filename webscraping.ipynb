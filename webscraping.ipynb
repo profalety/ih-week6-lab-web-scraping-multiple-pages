{
 "cells": [
  {
   "cell_type": "code",
   "execution_count": 1,
   "id": "9c2b774b-c7c1-4a72-b7b2-0f9d026c400b",
   "metadata": {},
   "outputs": [],
   "source": [
    "from bs4 import BeautifulSoup\n",
    "import requests\n",
    "import pandas as pd\n",
    "from IPython.display import HTML"
   ]
  },
  {
   "cell_type": "markdown",
   "id": "57a5069f-1a11-40b8-94a3-9df985de5cff",
   "metadata": {},
   "source": [
    "# Electro swing"
   ]
  },
  {
   "cell_type": "code",
   "execution_count": null,
   "id": "d6bd95e1-4e7b-44d0-b279-6f11fd64857b",
   "metadata": {},
   "outputs": [],
   "source": [
    "# Electroswing\n",
    "# \n",
    "# Parov Stelar - Brass Devil (Official Video)\n",
    "# https://www.youtube.com/watch?v=0kmTzotaHzM\n",
    "# ENJOY!\n"
   ]
  },
  {
   "cell_type": "code",
   "execution_count": 71,
   "id": "b9b5893c-1de7-4887-8599-61f76e7a4049",
   "metadata": {},
   "outputs": [
    {
     "data": {
      "text/html": [
       "<iframe width=\"560\" height=\"315\" src=\"https://www.youtube.com/embed/0kmTzotaHzM\" title=\"YouTube video player\" frameborder=\"0\" allow=\"accelerometer; autoplay; clipboard-write; encrypted-media; gyroscope; picture-in-picture\" allowfullscreen></iframe>"
      ],
      "text/plain": [
       "<IPython.core.display.HTML object>"
      ]
     },
     "execution_count": 71,
     "metadata": {},
     "output_type": "execute_result"
    }
   ],
   "source": [
    "HTML('<iframe width=\"560\" height=\"315\" src=\"https://www.youtube.com/embed/0kmTzotaHzM\" title=\"YouTube video player\" frameborder=\"0\" allow=\"accelerometer; autoplay; clipboard-write; encrypted-media; gyroscope; picture-in-picture\" allowfullscreen></iframe>')"
   ]
  },
  {
   "cell_type": "code",
   "execution_count": 2,
   "id": "b410910b-fce1-42f1-a98c-c8d14785ba07",
   "metadata": {},
   "outputs": [],
   "source": [
    "url = \"https://www.chosic.com/genre-chart/electro-swing/\""
   ]
  },
  {
   "cell_type": "code",
   "execution_count": 3,
   "id": "cfd201a3-e852-4b79-a78d-9c2a8859c6cb",
   "metadata": {},
   "outputs": [
    {
     "data": {
      "text/plain": [
       "200"
      ]
     },
     "execution_count": 3,
     "metadata": {},
     "output_type": "execute_result"
    }
   ],
   "source": [
    "response = requests.get(url)\n",
    "response.status_code # 200 status code means OK!"
   ]
  },
  {
   "cell_type": "code",
   "execution_count": 4,
   "id": "1b385050-1e0f-471c-8d5b-0524d240674c",
   "metadata": {},
   "outputs": [],
   "source": [
    "soup = BeautifulSoup(response.content, \"html.parser\")"
   ]
  },
  {
   "cell_type": "code",
   "execution_count": 6,
   "id": "5e691b8b-d0fd-4656-9a3f-045f2fe8042d",
   "metadata": {},
   "outputs": [],
   "source": [
    "# print(soup.prettify())"
   ]
  },
  {
   "cell_type": "code",
   "execution_count": 24,
   "id": "74e4d0eb-ba39-4a2c-8db2-a49ea7050c3c",
   "metadata": {},
   "outputs": [
    {
     "data": {
      "text/plain": [
       "[<div class=\"wrapper-item-info\">Parov Stelar</div>,\n",
       " <div class=\"wrapper-item-info\">Caravan Palace</div>,\n",
       " <div class=\"wrapper-item-info\">Chinese Man</div>,\n",
       " <div class=\"wrapper-item-info\">Caro Emerald</div>,\n",
       " <div class=\"wrapper-item-info\">Waldeck</div>,\n",
       " <div class=\"wrapper-item-info\">Club des Belugas</div>,\n",
       " <div class=\"wrapper-item-info\">Mo' Horizons</div>,\n",
       " <div class=\"wrapper-item-info\">Jamie Berry</div>]"
      ]
     },
     "execution_count": 24,
     "metadata": {},
     "output_type": "execute_result"
    }
   ],
   "source": [
    "soup.select(\"div.related-artists > div > div > div\")"
   ]
  },
  {
   "cell_type": "code",
   "execution_count": 25,
   "id": "04e4be13-7214-4bde-9e5c-2e245dc2ee29",
   "metadata": {},
   "outputs": [
    {
     "name": "stdout",
     "output_type": "stream",
     "text": [
      "Parov Stelar\n",
      "Caravan Palace\n",
      "Chinese Man\n",
      "Caro Emerald\n",
      "Waldeck\n",
      "Club des Belugas\n",
      "Mo' Horizons\n",
      "Jamie Berry\n"
     ]
    }
   ],
   "source": [
    "# List of top artists\n",
    "for artist  in soup.select(\"div.related-artists > div > div > div\"):\n",
    "    print(artist.get_text())"
   ]
  },
  {
   "cell_type": "code",
   "execution_count": 46,
   "id": "df7dba9e-ef55-4223-a1f3-69f346482e49",
   "metadata": {},
   "outputs": [],
   "source": [
    "# longer list of top artists with features\n",
    "artists = []\n",
    "for artist  in soup.select('table.info-table > tbody > tr > td > div > a'):\n",
    "    artists.append(artist.get_text())"
   ]
  },
  {
   "cell_type": "code",
   "execution_count": 48,
   "id": "d2392387-4fe1-477b-94d3-32f2cb505057",
   "metadata": {},
   "outputs": [],
   "source": [
    "df = pd.DataFrame(artists, columns=['artist'])"
   ]
  },
  {
   "cell_type": "code",
   "execution_count": 49,
   "id": "f41210e5-70ab-4a02-b21f-230c3d98fe6e",
   "metadata": {},
   "outputs": [
    {
     "data": {
      "text/html": [
       "<div>\n",
       "<style scoped>\n",
       "    .dataframe tbody tr th:only-of-type {\n",
       "        vertical-align: middle;\n",
       "    }\n",
       "\n",
       "    .dataframe tbody tr th {\n",
       "        vertical-align: top;\n",
       "    }\n",
       "\n",
       "    .dataframe thead th {\n",
       "        text-align: right;\n",
       "    }\n",
       "</style>\n",
       "<table border=\"1\" class=\"dataframe\">\n",
       "  <thead>\n",
       "    <tr style=\"text-align: right;\">\n",
       "      <th></th>\n",
       "      <th>artist</th>\n",
       "    </tr>\n",
       "  </thead>\n",
       "  <tbody>\n",
       "    <tr>\n",
       "      <th>0</th>\n",
       "      <td>Parov Stelar</td>\n",
       "    </tr>\n",
       "    <tr>\n",
       "      <th>1</th>\n",
       "      <td>Caravan Palace</td>\n",
       "    </tr>\n",
       "    <tr>\n",
       "      <th>2</th>\n",
       "      <td>Chinese Man</td>\n",
       "    </tr>\n",
       "    <tr>\n",
       "      <th>3</th>\n",
       "      <td>Caro Emerald</td>\n",
       "    </tr>\n",
       "    <tr>\n",
       "      <th>4</th>\n",
       "      <td>Waldeck</td>\n",
       "    </tr>\n",
       "    <tr>\n",
       "      <th>...</th>\n",
       "      <td>...</td>\n",
       "    </tr>\n",
       "    <tr>\n",
       "      <th>152</th>\n",
       "      <td>Rube &amp; Dusty</td>\n",
       "    </tr>\n",
       "    <tr>\n",
       "      <th>153</th>\n",
       "      <td>Betina Bager og Brian O</td>\n",
       "    </tr>\n",
       "    <tr>\n",
       "      <th>154</th>\n",
       "      <td>Tre Italiani In America</td>\n",
       "    </tr>\n",
       "    <tr>\n",
       "      <th>155</th>\n",
       "      <td>Betina Bager &amp; DJ Disse</td>\n",
       "    </tr>\n",
       "    <tr>\n",
       "      <th>156</th>\n",
       "      <td>Sir Cosmic</td>\n",
       "    </tr>\n",
       "  </tbody>\n",
       "</table>\n",
       "<p>157 rows × 1 columns</p>\n",
       "</div>"
      ],
      "text/plain": [
       "                       artist\n",
       "0                Parov Stelar\n",
       "1              Caravan Palace\n",
       "2                 Chinese Man\n",
       "3                Caro Emerald\n",
       "4                     Waldeck\n",
       "..                        ...\n",
       "152              Rube & Dusty\n",
       "153   Betina Bager og Brian O\n",
       "154   Tre Italiani In America\n",
       "155   Betina Bager & DJ Disse\n",
       "156                Sir Cosmic\n",
       "\n",
       "[157 rows x 1 columns]"
      ]
     },
     "execution_count": 49,
     "metadata": {},
     "output_type": "execute_result"
    }
   ],
   "source": [
    "df"
   ]
  },
  {
   "cell_type": "code",
   "execution_count": 55,
   "id": "922c3cd1-432d-423a-81f5-cb3a2e567ded",
   "metadata": {},
   "outputs": [],
   "source": [
    "# longer list of top artists with features\n",
    "popularity = []\n",
    "for p  in soup.select('table.info-table > tbody > tr > td:nth-child(3)'):\n",
    "    popularity.append(p.get_text())"
   ]
  },
  {
   "cell_type": "code",
   "execution_count": 58,
   "id": "da0bd033-3dc9-4840-8e27-73f03b9b6b45",
   "metadata": {},
   "outputs": [],
   "source": [
    "df2 = pd.DataFrame(popularity, columns=['popularity'])"
   ]
  },
  {
   "cell_type": "code",
   "execution_count": 61,
   "id": "cc412274-7fdc-4884-95d6-d26bc9f415cd",
   "metadata": {},
   "outputs": [],
   "source": [
    "# longer list of top artists with features\n",
    "instrumentalness = []\n",
    "for i  in soup.select('table.info-table > tbody > tr > td:nth-child(4)'):\n",
    "    instrumentalness.append(i.get_text())"
   ]
  },
  {
   "cell_type": "code",
   "execution_count": 62,
   "id": "99b1f9bb-5304-4ad0-a139-0f2139635a43",
   "metadata": {},
   "outputs": [],
   "source": [
    "df3 = pd.DataFrame(instrumentalness, columns=['instrumentalness'])"
   ]
  },
  {
   "cell_type": "code",
   "execution_count": 63,
   "id": "5f3071e9-5588-4483-91c4-90bef4a9ff22",
   "metadata": {},
   "outputs": [],
   "source": [
    "eswing =pd.concat([df, df2, df3], axis=1)"
   ]
  },
  {
   "cell_type": "code",
   "execution_count": 64,
   "id": "68c3ef97-8ed6-4e3a-ab97-85c55554fce9",
   "metadata": {},
   "outputs": [
    {
     "data": {
      "text/html": [
       "<div>\n",
       "<style scoped>\n",
       "    .dataframe tbody tr th:only-of-type {\n",
       "        vertical-align: middle;\n",
       "    }\n",
       "\n",
       "    .dataframe tbody tr th {\n",
       "        vertical-align: top;\n",
       "    }\n",
       "\n",
       "    .dataframe thead th {\n",
       "        text-align: right;\n",
       "    }\n",
       "</style>\n",
       "<table border=\"1\" class=\"dataframe\">\n",
       "  <thead>\n",
       "    <tr style=\"text-align: right;\">\n",
       "      <th></th>\n",
       "      <th>artist</th>\n",
       "      <th>popularity</th>\n",
       "      <th>instrumentalness</th>\n",
       "    </tr>\n",
       "  </thead>\n",
       "  <tbody>\n",
       "    <tr>\n",
       "      <th>0</th>\n",
       "      <td>Parov Stelar</td>\n",
       "      <td>66</td>\n",
       "      <td>28</td>\n",
       "    </tr>\n",
       "    <tr>\n",
       "      <th>1</th>\n",
       "      <td>Caravan Palace</td>\n",
       "      <td>65</td>\n",
       "      <td>1</td>\n",
       "    </tr>\n",
       "    <tr>\n",
       "      <th>2</th>\n",
       "      <td>Chinese Man</td>\n",
       "      <td>58</td>\n",
       "      <td>29</td>\n",
       "    </tr>\n",
       "    <tr>\n",
       "      <th>3</th>\n",
       "      <td>Caro Emerald</td>\n",
       "      <td>56</td>\n",
       "      <td>0</td>\n",
       "    </tr>\n",
       "    <tr>\n",
       "      <th>4</th>\n",
       "      <td>Waldeck</td>\n",
       "      <td>53</td>\n",
       "      <td>29</td>\n",
       "    </tr>\n",
       "    <tr>\n",
       "      <th>...</th>\n",
       "      <td>...</td>\n",
       "      <td>...</td>\n",
       "      <td>...</td>\n",
       "    </tr>\n",
       "    <tr>\n",
       "      <th>152</th>\n",
       "      <td>Rube &amp; Dusty</td>\n",
       "      <td>0</td>\n",
       "      <td>0</td>\n",
       "    </tr>\n",
       "    <tr>\n",
       "      <th>153</th>\n",
       "      <td>Betina Bager og Brian O</td>\n",
       "      <td>0</td>\n",
       "      <td>62</td>\n",
       "    </tr>\n",
       "    <tr>\n",
       "      <th>154</th>\n",
       "      <td>Tre Italiani In America</td>\n",
       "      <td>0</td>\n",
       "      <td>0</td>\n",
       "    </tr>\n",
       "    <tr>\n",
       "      <th>155</th>\n",
       "      <td>Betina Bager &amp; DJ Disse</td>\n",
       "      <td>0</td>\n",
       "      <td>3</td>\n",
       "    </tr>\n",
       "    <tr>\n",
       "      <th>156</th>\n",
       "      <td>Sir Cosmic</td>\n",
       "      <td>0</td>\n",
       "      <td>92</td>\n",
       "    </tr>\n",
       "  </tbody>\n",
       "</table>\n",
       "<p>157 rows × 3 columns</p>\n",
       "</div>"
      ],
      "text/plain": [
       "                       artist popularity instrumentalness\n",
       "0                Parov Stelar        66               28 \n",
       "1              Caravan Palace        65                1 \n",
       "2                 Chinese Man        58               29 \n",
       "3                Caro Emerald        56                0 \n",
       "4                     Waldeck        53               29 \n",
       "..                        ...        ...              ...\n",
       "152              Rube & Dusty         0                0 \n",
       "153   Betina Bager og Brian O         0               62 \n",
       "154   Tre Italiani In America         0                0 \n",
       "155   Betina Bager & DJ Disse         0                3 \n",
       "156                Sir Cosmic         0               92 \n",
       "\n",
       "[157 rows x 3 columns]"
      ]
     },
     "execution_count": 64,
     "metadata": {},
     "output_type": "execute_result"
    }
   ],
   "source": [
    "eswing"
   ]
  },
  {
   "cell_type": "code",
   "execution_count": 65,
   "id": "8c44ebe0-a5f9-4543-b662-7d7682aee508",
   "metadata": {},
   "outputs": [],
   "source": [
    "# longer list of top artists with features\n",
    "danceability = []\n",
    "for d in soup.select('table.info-table > tbody > tr > td:nth-child(5)'):\n",
    "    danceability.append(d.get_text())"
   ]
  },
  {
   "cell_type": "code",
   "execution_count": 66,
   "id": "b36cfe99-5d49-4ac6-80b2-41f03b5d57f3",
   "metadata": {},
   "outputs": [],
   "source": [
    "df4 = pd.DataFrame(danceability, columns=['danceability'])"
   ]
  },
  {
   "cell_type": "code",
   "execution_count": 67,
   "id": "400a3175-4242-460d-a5a8-ff80301e6c32",
   "metadata": {},
   "outputs": [],
   "source": [
    "eswing =pd.concat([eswing, df4], axis=1)"
   ]
  },
  {
   "cell_type": "code",
   "execution_count": 68,
   "id": "32b67453-8752-4d28-bc30-0022f23fc72c",
   "metadata": {},
   "outputs": [
    {
     "data": {
      "text/html": [
       "<div>\n",
       "<style scoped>\n",
       "    .dataframe tbody tr th:only-of-type {\n",
       "        vertical-align: middle;\n",
       "    }\n",
       "\n",
       "    .dataframe tbody tr th {\n",
       "        vertical-align: top;\n",
       "    }\n",
       "\n",
       "    .dataframe thead th {\n",
       "        text-align: right;\n",
       "    }\n",
       "</style>\n",
       "<table border=\"1\" class=\"dataframe\">\n",
       "  <thead>\n",
       "    <tr style=\"text-align: right;\">\n",
       "      <th></th>\n",
       "      <th>artist</th>\n",
       "      <th>popularity</th>\n",
       "      <th>instrumentalness</th>\n",
       "      <th>danceability</th>\n",
       "    </tr>\n",
       "  </thead>\n",
       "  <tbody>\n",
       "    <tr>\n",
       "      <th>0</th>\n",
       "      <td>Parov Stelar</td>\n",
       "      <td>66</td>\n",
       "      <td>28</td>\n",
       "      <td>80</td>\n",
       "    </tr>\n",
       "    <tr>\n",
       "      <th>1</th>\n",
       "      <td>Caravan Palace</td>\n",
       "      <td>65</td>\n",
       "      <td>1</td>\n",
       "      <td>73</td>\n",
       "    </tr>\n",
       "    <tr>\n",
       "      <th>2</th>\n",
       "      <td>Chinese Man</td>\n",
       "      <td>58</td>\n",
       "      <td>29</td>\n",
       "      <td>69</td>\n",
       "    </tr>\n",
       "    <tr>\n",
       "      <th>3</th>\n",
       "      <td>Caro Emerald</td>\n",
       "      <td>56</td>\n",
       "      <td>0</td>\n",
       "      <td>84</td>\n",
       "    </tr>\n",
       "    <tr>\n",
       "      <th>4</th>\n",
       "      <td>Waldeck</td>\n",
       "      <td>53</td>\n",
       "      <td>29</td>\n",
       "      <td>76</td>\n",
       "    </tr>\n",
       "    <tr>\n",
       "      <th>...</th>\n",
       "      <td>...</td>\n",
       "      <td>...</td>\n",
       "      <td>...</td>\n",
       "      <td>...</td>\n",
       "    </tr>\n",
       "    <tr>\n",
       "      <th>152</th>\n",
       "      <td>Rube &amp; Dusty</td>\n",
       "      <td>0</td>\n",
       "      <td>0</td>\n",
       "      <td>0</td>\n",
       "    </tr>\n",
       "    <tr>\n",
       "      <th>153</th>\n",
       "      <td>Betina Bager og Brian O</td>\n",
       "      <td>0</td>\n",
       "      <td>62</td>\n",
       "      <td>72</td>\n",
       "    </tr>\n",
       "    <tr>\n",
       "      <th>154</th>\n",
       "      <td>Tre Italiani In America</td>\n",
       "      <td>0</td>\n",
       "      <td>0</td>\n",
       "      <td>0</td>\n",
       "    </tr>\n",
       "    <tr>\n",
       "      <th>155</th>\n",
       "      <td>Betina Bager &amp; DJ Disse</td>\n",
       "      <td>0</td>\n",
       "      <td>3</td>\n",
       "      <td>79</td>\n",
       "    </tr>\n",
       "    <tr>\n",
       "      <th>156</th>\n",
       "      <td>Sir Cosmic</td>\n",
       "      <td>0</td>\n",
       "      <td>92</td>\n",
       "      <td>85</td>\n",
       "    </tr>\n",
       "  </tbody>\n",
       "</table>\n",
       "<p>157 rows × 4 columns</p>\n",
       "</div>"
      ],
      "text/plain": [
       "                       artist popularity instrumentalness danceability\n",
       "0                Parov Stelar        66               28           80 \n",
       "1              Caravan Palace        65                1           73 \n",
       "2                 Chinese Man        58               29           69 \n",
       "3                Caro Emerald        56                0           84 \n",
       "4                     Waldeck        53               29           76 \n",
       "..                        ...        ...              ...          ...\n",
       "152              Rube & Dusty         0                0            0 \n",
       "153   Betina Bager og Brian O         0               62           72 \n",
       "154   Tre Italiani In America         0                0            0 \n",
       "155   Betina Bager & DJ Disse         0                3           79 \n",
       "156                Sir Cosmic         0               92           85 \n",
       "\n",
       "[157 rows x 4 columns]"
      ]
     },
     "execution_count": 68,
     "metadata": {},
     "output_type": "execute_result"
    }
   ],
   "source": [
    "eswing"
   ]
  },
  {
   "cell_type": "markdown",
   "id": "975e87e9-e63f-4235-9bfb-0d2ca7b1d8a4",
   "metadata": {},
   "source": [
    "# Starcraft - Top players"
   ]
  },
  {
   "cell_type": "code",
   "execution_count": 73,
   "id": "5897714a-331c-4aec-bf19-4b4f0e24398d",
   "metadata": {},
   "outputs": [],
   "source": [
    "url = \"https://www.esportsearnings.com/games/151-starcraft-ii/top-players\""
   ]
  },
  {
   "cell_type": "markdown",
   "id": "a5d718e1-5954-49bf-bf96-daefeb53e1e8",
   "metadata": {},
   "source": [
    "<img src=\"https://www.gamersnexus.net/images/media/2013/games/skt-telecom.jpg\">\n",
    "<img src=\"https://www.gamersnexus.net/images/media/2013/games/cj-entus.jpg\">\n",
    "<img src=\"https://www.gamersnexus.net/images/media/2013/games/stx-soul.jpg\">"
   ]
  },
  {
   "cell_type": "code",
   "execution_count": 74,
   "id": "6a64cbc7-3564-423a-b4e9-1ed301ef92f7",
   "metadata": {},
   "outputs": [
    {
     "data": {
      "text/plain": [
       "200"
      ]
     },
     "execution_count": 74,
     "metadata": {},
     "output_type": "execute_result"
    }
   ],
   "source": [
    "response = requests.get(url)\n",
    "response.status_code # 200 status code means OK!"
   ]
  },
  {
   "cell_type": "code",
   "execution_count": 75,
   "id": "fabc9772-5985-4369-9f8a-71dff86051e4",
   "metadata": {},
   "outputs": [],
   "source": [
    "soup = BeautifulSoup(response.content, \"html.parser\")"
   ]
  },
  {
   "cell_type": "code",
   "execution_count": 77,
   "id": "b80884fe-28fa-427c-8340-ba95bbd52461",
   "metadata": {},
   "outputs": [],
   "source": [
    "# print(soup.prettify())"
   ]
  },
  {
   "cell_type": "code",
   "execution_count": 95,
   "id": "1cd85d83-362c-4ea0-b7bd-a606f3e0c125",
   "metadata": {},
   "outputs": [],
   "source": [
    "# Get player nicknames\n",
    "player_id = []\n",
    "for p_id in soup.select('table.detail_list_table > tbody > tr > td:nth-child(2) > a:nth-child(2)'):\n",
    "    player_id.append(p_id.get_text())"
   ]
  },
  {
   "cell_type": "code",
   "execution_count": 97,
   "id": "8890f8d0-b5bd-46ae-b51d-ac74a2e61186",
   "metadata": {},
   "outputs": [],
   "source": [
    "# Get player nicknames\n",
    "realname = []\n",
    "for rn in soup.select('table.detail_list_table > tbody > tr > td:nth-child(3)'):\n",
    "    realname.append(rn.get_text())"
   ]
  },
  {
   "cell_type": "code",
   "execution_count": null,
   "id": "ed85cda7-0253-4964-af24-a4525c95c229",
   "metadata": {},
   "outputs": [],
   "source": [
    "# Get lifetime winning\n",
    "winnings = []\n",
    "for w in soup.select('table.detail_list_table > tbody > tr > td:nth-child(43)'):\n",
    "    realname.append(w.get_text())"
   ]
  },
  {
   "cell_type": "code",
   "execution_count": 99,
   "id": "83aa9ef6-0e7f-4afa-918c-eb0ed6e67d04",
   "metadata": {},
   "outputs": [
    {
     "data": {
      "text/plain": [
       "[<td class=\"format_cell detail_list_prize border_right\">$1,146,688.55</td>,\n",
       " <td class=\"format_cell detail_list_prize border_right\">$1,050,271.38</td>,\n",
       " <td class=\"format_cell detail_list_prize border_right\">$1,009,374.12</td>,\n",
       " <td class=\"format_cell detail_list_prize border_right\">$907,387.03</td>,\n",
       " <td class=\"format_cell detail_list_prize border_right\">$792,511.00</td>,\n",
       " <td class=\"format_cell detail_list_prize border_right\">$696,494.11</td>,\n",
       " <td class=\"format_cell detail_list_prize border_right\">$678,326.59</td>,\n",
       " <td class=\"format_cell detail_list_prize border_right\">$650,979.39</td>,\n",
       " <td class=\"format_cell detail_list_prize border_right\">$650,327.09</td>,\n",
       " <td class=\"format_cell detail_list_prize border_right\">$617,412.36</td>,\n",
       " <td class=\"format_cell detail_list_prize border_right\">$555,547.63</td>,\n",
       " <td class=\"format_cell detail_list_prize border_right\">$509,771.79</td>,\n",
       " <td class=\"format_cell detail_list_prize border_right\">$494,254.36</td>,\n",
       " <td class=\"format_cell detail_list_prize border_right\">$491,140.68</td>,\n",
       " <td class=\"format_cell detail_list_prize border_right\">$475,900.67</td>,\n",
       " <td class=\"format_cell detail_list_prize border_right\">$473,453.54</td>,\n",
       " <td class=\"format_cell detail_list_prize border_right\">$469,721.12</td>,\n",
       " <td class=\"format_cell detail_list_prize border_right\">$451,943.24</td>,\n",
       " <td class=\"format_cell detail_list_prize border_right\">$443,109.50</td>,\n",
       " <td class=\"format_cell detail_list_prize border_right\">$428,026.68</td>,\n",
       " <td class=\"format_cell detail_list_prize border_right\">$422,337.91</td>,\n",
       " <td class=\"format_cell detail_list_prize border_right\">$407,169.17</td>,\n",
       " <td class=\"format_cell detail_list_prize border_right\">$404,994.83</td>,\n",
       " <td class=\"format_cell detail_list_prize border_right\">$400,199.08</td>,\n",
       " <td class=\"format_cell detail_list_prize border_right\">$372,788.71</td>,\n",
       " <td class=\"format_cell detail_list_prize border_right\">$371,725.19</td>,\n",
       " <td class=\"format_cell detail_list_prize border_right\">$360,027.92</td>,\n",
       " <td class=\"format_cell detail_list_prize border_right\">$322,970.87</td>,\n",
       " <td class=\"format_cell detail_list_prize border_right\">$313,850.93</td>,\n",
       " <td class=\"format_cell detail_list_prize border_right\">$307,477.07</td>,\n",
       " <td class=\"format_cell detail_list_prize border_right\">$303,729.63</td>,\n",
       " <td class=\"format_cell detail_list_prize border_right\">$290,661.14</td>,\n",
       " <td class=\"format_cell detail_list_prize border_right\">$288,225.07</td>,\n",
       " <td class=\"format_cell detail_list_prize border_right\">$279,226.47</td>,\n",
       " <td class=\"format_cell detail_list_prize border_right\">$265,914.84</td>,\n",
       " <td class=\"format_cell detail_list_prize border_right\">$261,892.87</td>,\n",
       " <td class=\"format_cell detail_list_prize border_right\">$252,905.97</td>,\n",
       " <td class=\"format_cell detail_list_prize border_right\">$243,127.72</td>,\n",
       " <td class=\"format_cell detail_list_prize border_right\">$236,924.55</td>,\n",
       " <td class=\"format_cell detail_list_prize border_right\">$236,690.51</td>,\n",
       " <td class=\"format_cell detail_list_prize border_right\">$233,783.91</td>,\n",
       " <td class=\"format_cell detail_list_prize border_right\">$228,985.95</td>,\n",
       " <td class=\"format_cell detail_list_prize border_right\">$226,046.48</td>,\n",
       " <td class=\"format_cell detail_list_prize border_right\">$224,833.53</td>,\n",
       " <td class=\"format_cell detail_list_prize border_right\">$222,769.24</td>,\n",
       " <td class=\"format_cell detail_list_prize border_right\">$212,397.14</td>,\n",
       " <td class=\"format_cell detail_list_prize border_right\">$205,052.35</td>,\n",
       " <td class=\"format_cell detail_list_prize border_right\">$189,876.99</td>,\n",
       " <td class=\"format_cell detail_list_prize border_right\">$183,568.96</td>,\n",
       " <td class=\"format_cell detail_list_prize border_right\">$177,659.71</td>,\n",
       " <td class=\"format_cell detail_list_prize border_right\">$175,427.13</td>,\n",
       " <td class=\"format_cell detail_list_prize border_right\">$173,109.04</td>,\n",
       " <td class=\"format_cell detail_list_prize border_right\">$172,891.85</td>,\n",
       " <td class=\"format_cell detail_list_prize border_right\">$171,602.29</td>,\n",
       " <td class=\"format_cell detail_list_prize border_right\">$165,652.45</td>,\n",
       " <td class=\"format_cell detail_list_prize border_right\">$164,658.57</td>,\n",
       " <td class=\"format_cell detail_list_prize border_right\">$157,564.32</td>,\n",
       " <td class=\"format_cell detail_list_prize border_right\">$153,116.49</td>,\n",
       " <td class=\"format_cell detail_list_prize border_right\">$151,030.84</td>,\n",
       " <td class=\"format_cell detail_list_prize border_right\">$149,378.95</td>,\n",
       " <td class=\"format_cell detail_list_prize border_right\">$148,758.87</td>,\n",
       " <td class=\"format_cell detail_list_prize border_right\">$147,459.89</td>,\n",
       " <td class=\"format_cell detail_list_prize border_right\">$143,862.24</td>,\n",
       " <td class=\"format_cell detail_list_prize border_right\">$142,369.56</td>,\n",
       " <td class=\"format_cell detail_list_prize border_right\">$141,662.54</td>,\n",
       " <td class=\"format_cell detail_list_prize border_right\">$138,056.32</td>,\n",
       " <td class=\"format_cell detail_list_prize border_right\">$137,741.63</td>,\n",
       " <td class=\"format_cell detail_list_prize border_right\">$137,456.10</td>,\n",
       " <td class=\"format_cell detail_list_prize border_right\">$134,450.51</td>,\n",
       " <td class=\"format_cell detail_list_prize border_right\">$133,917.25</td>,\n",
       " <td class=\"format_cell detail_list_prize border_right\">$132,113.35</td>,\n",
       " <td class=\"format_cell detail_list_prize border_right\">$127,940.88</td>,\n",
       " <td class=\"format_cell detail_list_prize border_right\">$126,135.49</td>,\n",
       " <td class=\"format_cell detail_list_prize border_right\">$125,323.05</td>,\n",
       " <td class=\"format_cell detail_list_prize border_right\">$123,275.22</td>,\n",
       " <td class=\"format_cell detail_list_prize border_right\">$118,650.73</td>,\n",
       " <td class=\"format_cell detail_list_prize border_right\">$118,188.84</td>,\n",
       " <td class=\"format_cell detail_list_prize border_right\">$115,102.67</td>,\n",
       " <td class=\"format_cell detail_list_prize border_right\">$114,941.13</td>,\n",
       " <td class=\"format_cell detail_list_prize border_right\">$114,305.31</td>,\n",
       " <td class=\"format_cell detail_list_prize border_right\">$111,579.95</td>,\n",
       " <td class=\"format_cell detail_list_prize border_right\">$109,440.09</td>,\n",
       " <td class=\"format_cell detail_list_prize border_right\">$106,039.84</td>,\n",
       " <td class=\"format_cell detail_list_prize border_right\">$104,322.88</td>,\n",
       " <td class=\"format_cell detail_list_prize border_right\">$102,860.50</td>,\n",
       " <td class=\"format_cell detail_list_prize border_right\">$102,682.90</td>,\n",
       " <td class=\"format_cell detail_list_prize border_right\">$102,454.26</td>,\n",
       " <td class=\"format_cell detail_list_prize border_right\">$100,271.58</td>,\n",
       " <td class=\"format_cell detail_list_prize border_right\">$98,451.08</td>,\n",
       " <td class=\"format_cell detail_list_prize border_right\">$98,041.11</td>,\n",
       " <td class=\"format_cell detail_list_prize border_right\">$94,907.10</td>,\n",
       " <td class=\"format_cell detail_list_prize border_right\">$94,856.43</td>,\n",
       " <td class=\"format_cell detail_list_prize border_right\">$93,857.75</td>,\n",
       " <td class=\"format_cell detail_list_prize border_right\">$93,775.14</td>,\n",
       " <td class=\"format_cell detail_list_prize border_right\">$92,282.22</td>,\n",
       " <td class=\"format_cell detail_list_prize border_right\">$91,021.35</td>,\n",
       " <td class=\"format_cell detail_list_prize border_right\">$90,152.64</td>,\n",
       " <td class=\"format_cell detail_list_prize border_right\">$89,725.40</td>,\n",
       " <td class=\"format_cell detail_list_prize border_right\">$88,169.61</td>,\n",
       " <td class=\"format_cell detail_list_prize border_right\">$86,777.33</td>]"
      ]
     },
     "execution_count": 99,
     "metadata": {},
     "output_type": "execute_result"
    }
   ],
   "source": [
    "soup.select(\"table.detail_list_table > tbody > tr > td:nth-child(4)\")"
   ]
  },
  {
   "cell_type": "code",
   "execution_count": null,
   "id": "a00372ec-7e8d-450c-9424-7241e1bcacd2",
   "metadata": {},
   "outputs": [],
   "source": []
  }
 ],
 "metadata": {
  "kernelspec": {
   "display_name": "Python 3 (ipykernel)",
   "language": "python",
   "name": "python3"
  },
  "language_info": {
   "codemirror_mode": {
    "name": "ipython",
    "version": 3
   },
   "file_extension": ".py",
   "mimetype": "text/x-python",
   "name": "python",
   "nbconvert_exporter": "python",
   "pygments_lexer": "ipython3",
   "version": "3.9.7"
  }
 },
 "nbformat": 4,
 "nbformat_minor": 5
}
