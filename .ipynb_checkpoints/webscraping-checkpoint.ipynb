{
 "cells": [
  {
   "cell_type": "code",
   "execution_count": 70,
   "id": "9c2b774b-c7c1-4a72-b7b2-0f9d026c400b",
   "metadata": {},
   "outputs": [],
   "source": [
    "from bs4 import BeautifulSoup\n",
    "import requests\n",
    "import pandas as pd"
   ]
  },
  {
   "cell_type": "code",
   "execution_count": 71,
   "id": "b410910b-fce1-42f1-a98c-c8d14785ba07",
   "metadata": {},
   "outputs": [],
   "source": [
    "url = \"http://www.popvortex.com/music/charts/top-100-songs.php\""
   ]
  },
  {
   "cell_type": "code",
   "execution_count": 72,
   "id": "cfd201a3-e852-4b79-a78d-9c2a8859c6cb",
   "metadata": {},
   "outputs": [
    {
     "data": {
      "text/plain": [
       "200"
      ]
     },
     "execution_count": 72,
     "metadata": {},
     "output_type": "execute_result"
    }
   ],
   "source": [
    "response = requests.get(url)\n",
    "response.status_code # 200 status code means OK!"
   ]
  },
  {
   "cell_type": "code",
   "execution_count": 73,
   "id": "1b385050-1e0f-471c-8d5b-0524d240674c",
   "metadata": {},
   "outputs": [],
   "source": [
    "soup = BeautifulSoup(response.content, \"html.parser\")"
   ]
  },
  {
   "cell_type": "code",
   "execution_count": 88,
   "id": "5e691b8b-d0fd-4656-9a3f-045f2fe8042d",
   "metadata": {},
   "outputs": [],
   "source": [
    "# print(soup.prettify())"
   ]
  },
  {
   "cell_type": "code",
   "execution_count": 89,
   "id": "2df90012-fc62-41af-b1a3-22455bf9859e",
   "metadata": {},
   "outputs": [
    {
     "name": "stdout",
     "output_type": "stream",
     "text": [
      "About Damn Time\n"
     ]
    }
   ],
   "source": [
    "for track in soup.select('#chart-position-1 > div:nth-child(2) > p:nth-child(1) > cite:nth-child(1)'):\n",
    "    print(track.get_text())"
   ]
  },
  {
   "cell_type": "code",
   "execution_count": 90,
   "id": "c5279608-267a-41e0-b7b6-91b72082fa22",
   "metadata": {},
   "outputs": [],
   "source": [
    "track_names = []\n",
    "for i in range(1, 100, 1):\n",
    "    track_name = soup.select(\"#chart-position-\"+str(i)+ \"> div:nth-child(2) > p:nth-child(1) > cite:nth-child(1)\")\n",
    "    track_names.append(*track_name)"
   ]
  },
  {
   "cell_type": "code",
   "execution_count": 91,
   "id": "3fd622d9-8c3c-4dbd-bde0-600a1ab036b4",
   "metadata": {},
   "outputs": [],
   "source": [
    "# track_names"
   ]
  },
  {
   "cell_type": "code",
   "execution_count": 92,
   "id": "1220f64a-108b-41b1-a311-2897e3796663",
   "metadata": {},
   "outputs": [],
   "source": [
    "artists = []\n",
    "for i in range(1, 100, 1):    \n",
    "    artist = soup.select('#chart-position-'+str(i)+ '> div:nth-child(2) > p:nth-child(1) > em:nth-child(2)')\n",
    "    artists.append(*artist)    "
   ]
  },
  {
   "cell_type": "code",
   "execution_count": 93,
   "id": "445ae1db-6cc4-4ad6-80e8-f9a6c3a6d069",
   "metadata": {},
   "outputs": [],
   "source": [
    "# artists"
   ]
  },
  {
   "cell_type": "code",
   "execution_count": 94,
   "id": "200da687-5a21-48a4-b7fa-723fd4a47cae",
   "metadata": {},
   "outputs": [],
   "source": [
    "top100 = pd.concat([pd.DataFrame(track_names, columns=['track_names']), pd.DataFrame(artists, columns=['artists'])], axis=1)"
   ]
  },
  {
   "cell_type": "code",
   "execution_count": 95,
   "id": "1b5b710e-05fb-486c-9738-fb15a7ccbb55",
   "metadata": {},
   "outputs": [
    {
     "data": {
      "text/html": [
       "<div>\n",
       "<style scoped>\n",
       "    .dataframe tbody tr th:only-of-type {\n",
       "        vertical-align: middle;\n",
       "    }\n",
       "\n",
       "    .dataframe tbody tr th {\n",
       "        vertical-align: top;\n",
       "    }\n",
       "\n",
       "    .dataframe thead th {\n",
       "        text-align: right;\n",
       "    }\n",
       "</style>\n",
       "<table border=\"1\" class=\"dataframe\">\n",
       "  <thead>\n",
       "    <tr style=\"text-align: right;\">\n",
       "      <th></th>\n",
       "      <th>track_names</th>\n",
       "      <th>artists</th>\n",
       "    </tr>\n",
       "  </thead>\n",
       "  <tbody>\n",
       "    <tr>\n",
       "      <th>0</th>\n",
       "      <td>About Damn Time</td>\n",
       "      <td>Lizzo</td>\n",
       "    </tr>\n",
       "    <tr>\n",
       "      <th>1</th>\n",
       "      <td>This Love</td>\n",
       "      <td>Taylor Swift</td>\n",
       "    </tr>\n",
       "    <tr>\n",
       "      <th>2</th>\n",
       "      <td>Hold My Hand</td>\n",
       "      <td>Lady Gaga</td>\n",
       "    </tr>\n",
       "    <tr>\n",
       "      <th>3</th>\n",
       "      <td>As It Was</td>\n",
       "      <td>Harry Styles</td>\n",
       "    </tr>\n",
       "    <tr>\n",
       "      <th>4</th>\n",
       "      <td>First Class</td>\n",
       "      <td>Jack Harlow</td>\n",
       "    </tr>\n",
       "    <tr>\n",
       "      <th>...</th>\n",
       "      <td>...</td>\n",
       "      <td>...</td>\n",
       "    </tr>\n",
       "    <tr>\n",
       "      <th>94</th>\n",
       "      <td>Mr. Brightside</td>\n",
       "      <td>The Killers</td>\n",
       "    </tr>\n",
       "    <tr>\n",
       "      <th>95</th>\n",
       "      <td>GIVE HEAVEN SOME HELL</td>\n",
       "      <td>HARDY</td>\n",
       "    </tr>\n",
       "    <tr>\n",
       "      <th>96</th>\n",
       "      <td>Something In The Way</td>\n",
       "      <td>Nirvana</td>\n",
       "    </tr>\n",
       "    <tr>\n",
       "      <th>97</th>\n",
       "      <td>The Reason</td>\n",
       "      <td>Hoobastank</td>\n",
       "    </tr>\n",
       "    <tr>\n",
       "      <th>98</th>\n",
       "      <td>Rebel Yell</td>\n",
       "      <td>Billy Idol</td>\n",
       "    </tr>\n",
       "  </tbody>\n",
       "</table>\n",
       "<p>99 rows × 2 columns</p>\n",
       "</div>"
      ],
      "text/plain": [
       "              track_names       artists\n",
       "0         About Damn Time         Lizzo\n",
       "1               This Love  Taylor Swift\n",
       "2            Hold My Hand     Lady Gaga\n",
       "3               As It Was  Harry Styles\n",
       "4             First Class   Jack Harlow\n",
       "..                    ...           ...\n",
       "94         Mr. Brightside   The Killers\n",
       "95  GIVE HEAVEN SOME HELL         HARDY\n",
       "96   Something In The Way       Nirvana\n",
       "97             The Reason    Hoobastank\n",
       "98             Rebel Yell    Billy Idol\n",
       "\n",
       "[99 rows x 2 columns]"
      ]
     },
     "execution_count": 95,
     "metadata": {},
     "output_type": "execute_result"
    }
   ],
   "source": [
    "top100"
   ]
  },
  {
   "cell_type": "code",
   "execution_count": null,
   "id": "fabc9772-5985-4369-9f8a-71dff86051e4",
   "metadata": {},
   "outputs": [],
   "source": []
  }
 ],
 "metadata": {
  "kernelspec": {
   "display_name": "Python 3 (ipykernel)",
   "language": "python",
   "name": "python3"
  },
  "language_info": {
   "codemirror_mode": {
    "name": "ipython",
    "version": 3
   },
   "file_extension": ".py",
   "mimetype": "text/x-python",
   "name": "python",
   "nbconvert_exporter": "python",
   "pygments_lexer": "ipython3",
   "version": "3.9.7"
  }
 },
 "nbformat": 4,
 "nbformat_minor": 5
}
